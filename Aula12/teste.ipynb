{
 "cells": [
  {
   "cell_type": "code",
   "execution_count": 22,
   "metadata": {},
   "outputs": [],
   "source": [
    "\n",
    "class Carro:\n",
    "    \n",
    "    def __init__(self, marca, modelo, ano):\n",
    "        self.marca = marca      \n",
    "        self.modelo = modelo    \n",
    "        self.ano = ano        \n",
    "        self.cor = \"\"\n",
    "        self._garantia = True  \n",
    "        self._ligado = False \n",
    "\n",
    "    def ligar(self):\n",
    "        pass\n",
    "        if self._ligado : \n",
    "            print(f\"\\n\\t O carro está ligado.\\n\")\n",
    "        else  :\n",
    "            self._ligado=True\n",
    "            print(f\"\\t\\t[erro] O carro ja está ligado ! ! ! \\n\")\n",
    "\n",
    "    def desligar(self):\n",
    "        pass\n",
    "        if self._ligado :\n",
    "            self._ligado=False\n",
    "            print(f\"\\t\\t [OK] O carro foi desligado ! ! !\")\n",
    "        else : \n",
    "            print(f\"\\n\\t [Erro] O carro ja está desligado\")\n",
    "\n",
    "    def exibir_info(self):\n",
    "        pass\n",
    "        if self._ligado :\n",
    "            status = \"Ligado\"\n",
    "        else: status = \"Desligado\"\n",
    "\n",
    "        print(f\"{self.marca} - {self.modelo} está {status}\")"
   ]
  },
  {
   "cell_type": "code",
   "execution_count": 23,
   "metadata": {},
   "outputs": [],
   "source": [
    "meu_carro = Carro(\"WV\", \"Gol\", 2012)"
   ]
  },
  {
   "cell_type": "code",
   "execution_count": 24,
   "metadata": {},
   "outputs": [
    {
     "name": "stdout",
     "output_type": "stream",
     "text": [
      "<__main__.Carro object at 0x0000025F6B88B770>\n"
     ]
    }
   ],
   "source": [
    "print(meu_carro)"
   ]
  },
  {
   "cell_type": "code",
   "execution_count": 25,
   "metadata": {},
   "outputs": [
    {
     "name": "stdout",
     "output_type": "stream",
     "text": [
      "WV - Gol está Desligado\n"
     ]
    }
   ],
   "source": [
    "meu_carro.exibir_info()\n"
   ]
  },
  {
   "cell_type": "code",
   "execution_count": 27,
   "metadata": {},
   "outputs": [
    {
     "name": "stdout",
     "output_type": "stream",
     "text": [
      "\n",
      "\t O carro está ligado.\n",
      "\n"
     ]
    }
   ],
   "source": [
    "meu_carro.ligar()"
   ]
  },
  {
   "cell_type": "code",
   "execution_count": 29,
   "metadata": {},
   "outputs": [
    {
     "name": "stdout",
     "output_type": "stream",
     "text": [
      "\t\t [OK] O carro foi desligado ! ! !\n"
     ]
    }
   ],
   "source": [
    "meu_carro.desligar()"
   ]
  },
  {
   "cell_type": "code",
   "execution_count": 30,
   "metadata": {},
   "outputs": [
    {
     "name": "stdout",
     "output_type": "stream",
     "text": [
      "WV - Gol está Desligado\n"
     ]
    }
   ],
   "source": [
    "meu_carro.exibir_info()\n"
   ]
  },
  {
   "cell_type": "markdown",
   "metadata": {},
   "source": [
    "DESAFIO\n"
   ]
  },
  {
   "cell_type": "code",
   "execution_count": null,
   "metadata": {},
   "outputs": [],
   "source": []
  }
 ],
 "metadata": {
  "kernelspec": {
   "display_name": "Python 3.12.0 64-bit",
   "language": "python",
   "name": "python3"
  },
  "language_info": {
   "codemirror_mode": {
    "name": "ipython",
    "version": 3
   },
   "file_extension": ".py",
   "mimetype": "text/x-python",
   "name": "python",
   "nbconvert_exporter": "python",
   "pygments_lexer": "ipython3",
   "version": "3.12.0"
  },
  "orig_nbformat": 4,
  "vscode": {
   "interpreter": {
    "hash": "3fcbd7240ee8f908d933dc7f71e8c42a1a91163b70ede8dcff5146d4087436c7"
   }
  }
 },
 "nbformat": 4,
 "nbformat_minor": 2
}
