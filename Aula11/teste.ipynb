{
 "cells": [
  {
   "cell_type": "code",
   "execution_count": 5,
   "metadata": {},
   "outputs": [],
   "source": [
    "lista_pessoas= []\n",
    "for i in range(2):\n",
    "    pessoas={}\n",
    "    pessoas[\"nome\"]=input(\"Digite o nome: \")\n",
    "    pessoas[\"idade\"]=int(input(\"Digite a idade: \"))\n",
    "    pessoas[\"cidade\"]=input(\"Digite a cidade: \")\n",
    "    pessoas[\"email\"]=input(\"Digite o email: \")\n",
    "    lista_pessoas.append(pessoas)\n",
    "print(lista_pessoas)\n"
   ]
  },
  {
   "cell_type": "code",
   "execution_count": null,
   "metadata": {},
   "outputs": [],
   "source": [
    "lista_pessoas[0] [\"cel\"] = \"9920029333\""
   ]
  },
  {
   "cell_type": "code",
   "execution_count": null,
   "metadata": {},
   "outputs": [],
   "source": [
    "print(lista_pessoas [0])\n",
    "print(lista_pessoas [1])"
   ]
  },
  {
   "cell_type": "code",
   "execution_count": 10,
   "metadata": {},
   "outputs": [
    {
     "name": "stdout",
     "output_type": "stream",
     "text": [
      "{1: {'nome': 'Maria', 'notas': [7.5, 8.0, 9.2], 'média': 8.23}, 2: {'nome': 'João', 'notas': [6.0, 7.8, 8.5], 'média': 7.43}, 3: {'nome': 'Carlos', 'notas': [5.5, 6.5, 7.0], 'média': 6.33}}\n"
     ]
    }
   ],
   "source": [
    "alunos = {}\n",
    "\n",
    "alunos[1] = {\"nome\": \"Maria\", \"notas\": [7.5, 8.0, 9.2]}\n",
    "alunos[2] = {\"nome\": \"João\", \"notas\": [6.0, 7.8, 8.5]}\n",
    "alunos[3] = {\"nome\": \"Carlos\", \"notas\": [5.5, 6.5, 7.0]}\n",
    "for id_aluno, info in alunos.items():\n",
    "    notas = info[\"notas\"]\n",
    "    media = sum(notas) / len(notas)\n",
    "    info[\"média\"] = round(media, 2)\n",
    "\n",
    "print(alunos)"
   ]
  },
  {
   "cell_type": "code",
   "execution_count": 4,
   "metadata": {},
   "outputs": [
    {
     "ename": "NameError",
     "evalue": "name 'alunos' is not defined",
     "output_type": "error",
     "traceback": [
      "\u001b[31m---------------------------------------------------------------------------\u001b[39m",
      "\u001b[31mNameError\u001b[39m                                 Traceback (most recent call last)",
      "\u001b[36mCell\u001b[39m\u001b[36m \u001b[39m\u001b[32mIn[4]\u001b[39m\u001b[32m, line 1\u001b[39m\n\u001b[32m----> \u001b[39m\u001b[32m1\u001b[39m \u001b[43malunos\u001b[49m[\u001b[32m1\u001b[39m] [\u001b[33m\"\u001b[39m\u001b[33mnotas\u001b[39m\u001b[33m\"\u001b[39m].append(\u001b[32m2.3\u001b[39m)\n\u001b[32m      2\u001b[39m alunos[\u001b[32m2\u001b[39m] [\u001b[33m\"\u001b[39m\u001b[33mnotas\u001b[39m\u001b[33m\"\u001b[39m].append(\u001b[32m8.1\u001b[39m)\n\u001b[32m      3\u001b[39m alunos[\u001b[32m3\u001b[39m] [\u001b[33m\"\u001b[39m\u001b[33mnotas\u001b[39m\u001b[33m\"\u001b[39m].append(\u001b[32m6.4\u001b[39m)\n",
      "\u001b[31mNameError\u001b[39m: name 'alunos' is not defined"
     ]
    }
   ],
   "source": [
    "alunos[1] [\"notas\"].append(2.3)\n",
    "alunos[2] [\"notas\"].append(8.1)\n",
    "alunos[3] [\"notas\"].append(6.4)\n",
    "\n",
    "alunos[1] [\"notas\"].append(5.2)\n",
    "alunos[2] [\"notas\"].append(7.5)\n",
    "alunos[3] [\"notas\"].append(9.4)\n",
    "\n",
    "alunos[1] [\"notas\"].append(10.0)\n",
    "alunos[2] [\"notas\"].append(6.1)\n",
    "alunos[3] [\"notas\"].append(5.7)"
   ]
  },
  {
   "cell_type": "code",
   "execution_count": 14,
   "metadata": {},
   "outputs": [
    {
     "name": "stdout",
     "output_type": "stream",
     "text": [
      "{'nome': 'Maria', 'notas': [7.5, 8.0, 9.2, 2.3, 5.2, 10.0]}\n"
     ]
    }
   ],
   "source": [
    "print(alunos[1])\n"
   ]
  },
  {
   "cell_type": "code",
   "execution_count": 28,
   "metadata": {},
   "outputs": [
    {
     "name": "stdout",
     "output_type": "stream",
     "text": [
      "Matricula do aluno ....: 1\n",
      "Nome do aluno..........: {'nome': 'Maria', 'notas': [7.5, 8.0, 9.2, 2.3, 5.2, 10.0], 'media': 7.033333333333334, 'status': 'Aprovado'}\n",
      "Notas do aluno.........: [7.5, 8.0, 9.2, 2.3, 5.2, 10.0]\n",
      "Notas do aluno ........:\n",
      "\t\t Nota... 7.5\n",
      "\t\t Nota... 8.0\n",
      "\t\t Nota... 9.2\n",
      "\t\t Nota... 2.3\n",
      "\t\t Nota... 5.2\n",
      "\t\t Nota... 10.0\n",
      "\t\tMedia.. 7.033333333333334\n",
      "\t\tMedia.. 7.033333333333334\n",
      "\t\tStatus : Aprovado\n"
     ]
    }
   ],
   "source": [
    "for matricula, dados_aluno in alunos.items():\n",
    "    print(f\"Matricula do aluno ....: {matricula}\")\n",
    "    print(f\"Nome do aluno..........: {dados_aluno}\")\n",
    "    print(f\"Notas do aluno.........: {dados_aluno['notas']}\")\n",
    "    print(\"Notas do aluno ........:\")\n",
    "    for nota in dados_aluno[\"notas\"]:\n",
    "        print(f\"\\t\\t Nota... {nota}\")\n",
    "    media = sum(dados_aluno[\"notas\"]) / len(dados_aluno[\"notas\"])\n",
    "    print(f\"\\t\\tMedia.. {media}\")\n",
    "\n",
    "    dados_aluno[\"media\"] = media\n",
    "    print(f\"\\t\\tMedia.. {dados_aluno['media']}\")\n",
    "\n",
    "    if media >= 6:\n",
    "        dados_aluno[\"status\"] = \"Aprovado\"\n",
    "    else:\n",
    "        dados_aluno[\"status\"] = \"Reprovado\"\n",
    "    \n",
    "    print(f\"\\t\\tStatus : {dados_aluno['status']}\")\n",
    "    break"
   ]
  },
  {
   "cell_type": "code",
   "execution_count": 27,
   "metadata": {},
   "outputs": [
    {
     "name": "stdout",
     "output_type": "stream",
     "text": [
      "Matricula do aluno ...: 1\n",
      "Nome do aluno.........: Maria\n",
      "Notas do aluno........:\n",
      "\t\t Nota... 7.5\n",
      "\t\t Nota... 8.0\n",
      "\t\t Nota... 9.2\n",
      "\t\t Nota... 2.3\n",
      "\t\t Nota... 5.2\n",
      "\t\t Nota... 10.0\n",
      "\t\tMedia.. 7.03\n",
      "\t\tStatus : Aprovado\n"
     ]
    }
   ],
   "source": [
    "for matricula, dados_aluno in alunos.items():\n",
    "    print(f\"Matricula do aluno ...: {matricula}\")\n",
    "    print(f\"Nome do aluno.........: {dados_aluno['nome']}\") \n",
    "    \n",
    "    print(f\"Notas do aluno........:\")\n",
    "    for nota in dados_aluno[\"notas\"]:\n",
    "        print(f\"\\t\\t Nota... {nota}\")\n",
    "\n",
    "    media = sum(dados_aluno[\"notas\"]) / len(dados_aluno[\"notas\"])\n",
    "    dados_aluno[\"media\"] = media   \n",
    "    print(f\"\\t\\tMedia.. {dados_aluno['media']:.2f}\")\n",
    "\n",
    "    if media >= 6:\n",
    "        dados_aluno[\"status\"] = \"Aprovado\"\n",
    "    else:\n",
    "        dados_aluno[\"status\"] = \"Reprovado\"\n",
    "    print(f\"\\t\\tStatus : {dados_aluno['status']}\")\n",
    "    \n",
    "    break "
   ]
  },
  {
   "cell_type": "code",
   "execution_count": 1,
   "metadata": {},
   "outputs": [
    {
     "name": "stdout",
     "output_type": "stream",
     "text": [
      "\n",
      "Menu:\n",
      "1. Adicionar\n",
      "2. Remover\n",
      "3. Buscar\n",
      "4. Listar\n",
      "5. Sair\n",
      "Opção inválida.\n",
      "\n",
      "Menu:\n",
      "1. Adicionar\n",
      "2. Remover\n",
      "3. Buscar\n",
      "4. Listar\n",
      "5. Sair\n",
      "Opção inválida.\n",
      "\n",
      "Menu:\n",
      "1. Adicionar\n",
      "2. Remover\n",
      "3. Buscar\n",
      "4. Listar\n",
      "5. Sair\n"
     ]
    }
   ],
   "source": [
    "usuarios = {}\n",
    "\n",
    "def adicionar_usuario():\n",
    "    nome = input(\"Nome: \")\n",
    "    email = input(\"E-mail: \")\n",
    "    usuarios[email] = {\"nome\": nome, \"email\": email}\n",
    "    print(\"Usuário adicionado!\")\n",
    "\n",
    "def remover_usuario():\n",
    "    email = input(\"E-mail para remover: \")\n",
    "    if email in usuarios:\n",
    "        del usuarios[email]\n",
    "        print(\"Usuário removido!\")\n",
    "    else:\n",
    "        print(\"E-mail não encontrado.\")\n",
    "\n",
    "def buscar_usuario():\n",
    "    email = input(\"E-mail para buscar: \")\n",
    "    usuario = usuarios.get(email)\n",
    "    if usuario:\n",
    "        print(f\"Nome: {usuario['nome']}, E-mail: {usuario['email']}\")\n",
    "    else:\n",
    "        print(\"Usuário não encontrado.\")\n",
    "\n",
    "def listar_usuarios():\n",
    "    for email, info in usuarios.items():\n",
    "        print(f\"{info['nome']} - {email}\")\n",
    "\n",
    "while True:\n",
    "    print(\"\\nMenu:\")\n",
    "    print(\"1. Adicionar\")\n",
    "    print(\"2. Remover\")\n",
    "    print(\"3. Buscar\")\n",
    "    print(\"4. Listar\")\n",
    "    print(\"5. Sair\")\n",
    "    \n",
    "    opcao = input(\"Escolha uma opção: \")\n",
    "    \n",
    "    if opcao == \"1\":\n",
    "        adicionar_usuario()\n",
    "    elif opcao == \"2\":\n",
    "        remover_usuario()\n",
    "    elif opcao == \"3\":\n",
    "        buscar_usuario()\n",
    "    elif opcao == \"4\":\n",
    "        listar_usuarios()\n",
    "    elif opcao == \"5\":\n",
    "        break\n",
    "    else:\n",
    "        print(\"Opção inválida.\")"
   ]
  },
  {
   "cell_type": "code",
   "execution_count": null,
   "metadata": {},
   "outputs": [],
   "source": []
  }
 ],
 "metadata": {
  "kernelspec": {
   "display_name": "Python 3.12.0 64-bit",
   "language": "python",
   "name": "python3"
  },
  "language_info": {
   "codemirror_mode": {
    "name": "ipython",
    "version": 3
   },
   "file_extension": ".py",
   "mimetype": "text/x-python",
   "name": "python",
   "nbconvert_exporter": "python",
   "pygments_lexer": "ipython3",
   "version": "3.12.0"
  },
  "orig_nbformat": 4,
  "vscode": {
   "interpreter": {
    "hash": "3fcbd7240ee8f908d933dc7f71e8c42a1a91163b70ede8dcff5146d4087436c7"
   }
  }
 },
 "nbformat": 4,
 "nbformat_minor": 2
}
