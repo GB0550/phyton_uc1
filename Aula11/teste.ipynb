{
 "cells": [
  {
   "cell_type": "code",
   "execution_count": 7,
   "metadata": {},
   "outputs": [
    {
     "name": "stdout",
     "output_type": "stream",
     "text": [
      "[{'nome': 'gag', 'idade': 1, 'cidade': 'faf', 'email': 'afa'}, {'nome': 'faf', 'idade': 2, 'cidade': 'faf', 'email': 'af'}]\n"
     ]
    }
   ],
   "source": [
    "lista_pessoas= []\n",
    "for i in range(2):\n",
    "    pessoas={}\n",
    "    pessoas[\"nome\"]=input(\"Digite o nome: \")\n",
    "    pessoas[\"idade\"]=int(input(\"Digite a idade: \"))\n",
    "    pessoas[\"cidade\"]=input(\"Digite a cidade: \")\n",
    "    pessoas[\"email\"]=input(\"Digite o email: \")\n",
    "    lista_pessoas.append(pessoas)\n",
    "print(lista_pessoas)\n"
   ]
  },
  {
   "cell_type": "code",
   "execution_count": 8,
   "metadata": {},
   "outputs": [],
   "source": [
    "lista_pessoas[0] [\"cel\"] = \"9920029333\""
   ]
  },
  {
   "cell_type": "code",
   "execution_count": 9,
   "metadata": {},
   "outputs": [
    {
     "name": "stdout",
     "output_type": "stream",
     "text": [
      "{'nome': 'gag', 'idade': 1, 'cidade': 'faf', 'email': 'afa', 'cel': '9920029333'}\n",
      "{'nome': 'faf', 'idade': 2, 'cidade': 'faf', 'email': 'af'}\n"
     ]
    }
   ],
   "source": [
    "print(lista_pessoas [0])\n",
    "print(lista_pessoas [1])"
   ]
  },
  {
   "cell_type": "code",
   "execution_count": 10,
   "metadata": {},
   "outputs": [
    {
     "name": "stdout",
     "output_type": "stream",
     "text": [
      "{1: {'nome': 'Maria', 'notas': [7.5, 8.0, 9.2], 'média': 8.23}, 2: {'nome': 'João', 'notas': [6.0, 7.8, 8.5], 'média': 7.43}, 3: {'nome': 'Carlos', 'notas': [5.5, 6.5, 7.0], 'média': 6.33}}\n"
     ]
    }
   ],
   "source": [
    "alunos = {}\n",
    "\n",
    "alunos[1] = {\"nome\": \"Maria\", \"notas\": [7.5, 8.0, 9.2]}\n",
    "alunos[2] = {\"nome\": \"João\", \"notas\": [6.0, 7.8, 8.5]}\n",
    "alunos[3] = {\"nome\": \"Carlos\", \"notas\": [5.5, 6.5, 7.0]}\n",
    "for id_aluno, info in alunos.items():\n",
    "    notas = info[\"notas\"]\n",
    "    media = sum(notas) / len(notas)\n",
    "    info[\"média\"] = round(media, 2)\n",
    "\n",
    "print(alunos)"
   ]
  },
  {
   "cell_type": "code",
   "execution_count": 13,
   "metadata": {},
   "outputs": [],
   "source": [
    "alunos[1] [\"notas\"].append(2.3)\n",
    "alunos[2] [\"notas\"].append(8.1)\n",
    "alunos[3] [\"notas\"].append(6.4)\n",
    "\n",
    "alunos[1] [\"notas\"].append(5.2)\n",
    "alunos[2] [\"notas\"].append(7.5)\n",
    "alunos[3] [\"notas\"].append(9.4)\n",
    "\n",
    "alunos[1] [\"notas\"].append(10.0)\n",
    "alunos[2] [\"notas\"].append(6.1)\n",
    "alunos[3] [\"notas\"].append(5.7)"
   ]
  },
  {
   "cell_type": "code",
   "execution_count": 14,
   "metadata": {},
   "outputs": [
    {
     "name": "stdout",
     "output_type": "stream",
     "text": [
      "{'nome': 'Maria', 'notas': [7.5, 8.0, 9.2, 2.3, 5.2, 10.0]}\n"
     ]
    }
   ],
   "source": [
    "print(alunos[1])\n"
   ]
  },
  {
   "cell_type": "code",
   "execution_count": 28,
   "metadata": {},
   "outputs": [
    {
     "name": "stdout",
     "output_type": "stream",
     "text": [
      "Matricula do aluno ....: 1\n",
      "Nome do aluno..........: {'nome': 'Maria', 'notas': [7.5, 8.0, 9.2, 2.3, 5.2, 10.0], 'media': 7.033333333333334, 'status': 'Aprovado'}\n",
      "Notas do aluno.........: [7.5, 8.0, 9.2, 2.3, 5.2, 10.0]\n",
      "Notas do aluno ........:\n",
      "\t\t Nota... 7.5\n",
      "\t\t Nota... 8.0\n",
      "\t\t Nota... 9.2\n",
      "\t\t Nota... 2.3\n",
      "\t\t Nota... 5.2\n",
      "\t\t Nota... 10.0\n",
      "\t\tMedia.. 7.033333333333334\n",
      "\t\tMedia.. 7.033333333333334\n",
      "\t\tStatus : Aprovado\n"
     ]
    }
   ],
   "source": [
    "for matricula, dados_aluno in alunos.items():\n",
    "    print(f\"Matricula do aluno ....: {matricula}\")\n",
    "    print(f\"Nome do aluno..........: {dados_aluno}\")\n",
    "    print(f\"Notas do aluno.........: {dados_aluno['notas']}\")\n",
    "    print(\"Notas do aluno ........:\")\n",
    "    for nota in dados_aluno[\"notas\"]:\n",
    "        print(f\"\\t\\t Nota... {nota}\")\n",
    "    media = sum(dados_aluno[\"notas\"]) / len(dados_aluno[\"notas\"])\n",
    "    print(f\"\\t\\tMedia.. {media}\")\n",
    "\n",
    "    dados_aluno[\"media\"] = media\n",
    "    print(f\"\\t\\tMedia.. {dados_aluno['media']}\")\n",
    "\n",
    "    if media >= 6:\n",
    "        dados_aluno[\"status\"] = \"Aprovado\"\n",
    "    else:\n",
    "        dados_aluno[\"status\"] = \"Reprovado\"\n",
    "    \n",
    "    print(f\"\\t\\tStatus : {dados_aluno['status']}\")\n",
    "    break"
   ]
  },
  {
   "cell_type": "code",
   "execution_count": 27,
   "metadata": {},
   "outputs": [
    {
     "name": "stdout",
     "output_type": "stream",
     "text": [
      "Matricula do aluno ...: 1\n",
      "Nome do aluno.........: Maria\n",
      "Notas do aluno........:\n",
      "\t\t Nota... 7.5\n",
      "\t\t Nota... 8.0\n",
      "\t\t Nota... 9.2\n",
      "\t\t Nota... 2.3\n",
      "\t\t Nota... 5.2\n",
      "\t\t Nota... 10.0\n",
      "\t\tMedia.. 7.03\n",
      "\t\tStatus : Aprovado\n"
     ]
    }
   ],
   "source": [
    "for matricula, dados_aluno in alunos.items():\n",
    "    print(f\"Matricula do aluno ...: {matricula}\")\n",
    "    print(f\"Nome do aluno.........: {dados_aluno['nome']}\") \n",
    "    \n",
    "    print(f\"Notas do aluno........:\")\n",
    "    for nota in dados_aluno[\"notas\"]:\n",
    "        print(f\"\\t\\t Nota... {nota}\")\n",
    "\n",
    "    media = sum(dados_aluno[\"notas\"]) / len(dados_aluno[\"notas\"])\n",
    "    dados_aluno[\"media\"] = media   \n",
    "    print(f\"\\t\\tMedia.. {dados_aluno['media']:.2f}\")\n",
    "\n",
    "    if media >= 6:\n",
    "        dados_aluno[\"status\"] = \"Aprovado\"\n",
    "    else:\n",
    "        dados_aluno[\"status\"] = \"Reprovado\"\n",
    "    print(f\"\\t\\tStatus : {dados_aluno['status']}\")\n",
    "    \n",
    "    break "
   ]
  }
 ],
 "metadata": {
  "kernelspec": {
   "display_name": "Python 3.12.0 64-bit",
   "language": "python",
   "name": "python3"
  },
  "language_info": {
   "codemirror_mode": {
    "name": "ipython",
    "version": 3
   },
   "file_extension": ".py",
   "mimetype": "text/x-python",
   "name": "python",
   "nbconvert_exporter": "python",
   "pygments_lexer": "ipython3",
   "version": "3.12.0"
  },
  "orig_nbformat": 4,
  "vscode": {
   "interpreter": {
    "hash": "3fcbd7240ee8f908d933dc7f71e8c42a1a91163b70ede8dcff5146d4087436c7"
   }
  }
 },
 "nbformat": 4,
 "nbformat_minor": 2
}
