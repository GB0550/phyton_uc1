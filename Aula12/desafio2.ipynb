{
 "cells": [
  {
   "cell_type": "code",
   "execution_count": 18,
   "metadata": {},
   "outputs": [
    {
     "name": "stdout",
     "output_type": "stream",
     "text": [
      "Carro 1: Toyota - SW4 - PDF-4321 - Preto - 2017 | Desligado - Reboque está Ligado - Seguro está Ligado\n",
      "Carro 2: Toyota - Corolla - XVY-0034 - Prata - 2021 | Desligado - Reboque está Ligado - Seguro está Ligado\n",
      "Carro 3: Chevrolet - Onix - PAU-9954 - Branco - 2016 | Desligado - Reboque está Ligado - Seguro está Ligado\n"
     ]
    }
   ],
   "source": [
    "class Carro:\n",
    "    def __init__(self, marca, modelo, ano, cor, placa):\n",
    "        self.marca = marca \n",
    "        self.modelo = modelo    \n",
    "        self.ano = ano\n",
    "        self.cor = cor\n",
    "        self.placa = placa\n",
    "        self._garantia = True  \n",
    "        self._seguro = True \n",
    "        self._ligado  = False\n",
    "        self._reboque = True\n",
    "\n",
    "    def ligar(self):\n",
    "        if self._ligado:\n",
    "            print(\"Já está LIGADO!\")\n",
    "        else:\n",
    "            self._ligado = True\n",
    "            print(\"[OK] O carro foi LIGADO!!!\")\n",
    "\n",
    "    def desligar(self):\n",
    "        if not self._ligado:\n",
    "            print(\"[OK] O carro foi DESLIGADO!!!\")\n",
    "        else:\n",
    "            print(\"[ERRO] Já está DESLIGADO!\")  \n",
    "\n",
    "    def exibir_info(self):\n",
    "        status = \"Ligado\" if self._ligado else \"Desligado\"\n",
    "        seguro = \"Seguro está Ligado\" if self._seguro else \"Seguro está Desligado\"\n",
    "        reboque = \"Reboque está Ligado\" if self._reboque else \"Reboque está Desligado\"\n",
    "\n",
    "        print(f\"{self.marca} - {self.modelo} - {self.placa} - {self.cor} - {self.ano} | {status} - {reboque} - {seguro}\")\n",
    "\n",
    "\n",
    "carro1 = Carro(\"Toyota\", \"SW4\", 2017, \"Preto\", \"PDF-4321\")\n",
    "carro2 = Carro(\"Toyota\", \"Corolla\", 2021, \"Prata\", \"XVY-0034\")\n",
    "carro3 = Carro(\"Chevrolet\", \"Onix\", 2016, \"Branco\", \"PAU-9954\")\n",
    "\n",
    "colecao = []\n",
    "\n",
    "colecao.append(carro1)\n",
    "colecao.append(carro2)\n",
    "colecao.append(carro3)\n",
    "\n",
    "for i, carro in enumerate(colecao, start=1):\n",
    "    print(f\"Carro {i}: \", end=\"\")\n",
    "    carro.exibir_info()"
   ]
  }
 ],
 "metadata": {
  "kernelspec": {
   "display_name": "Python 3.12.0 64-bit",
   "language": "python",
   "name": "python3"
  },
  "language_info": {
   "codemirror_mode": {
    "name": "ipython",
    "version": 3
   },
   "file_extension": ".py",
   "mimetype": "text/x-python",
   "name": "python",
   "nbconvert_exporter": "python",
   "pygments_lexer": "ipython3",
   "version": "3.12.0"
  },
  "orig_nbformat": 4,
  "vscode": {
   "interpreter": {
    "hash": "3fcbd7240ee8f908d933dc7f71e8c42a1a91163b70ede8dcff5146d4087436c7"
   }
  }
 },
 "nbformat": 4,
 "nbformat_minor": 2
}
