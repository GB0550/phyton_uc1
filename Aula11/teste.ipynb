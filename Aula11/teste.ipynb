{
 "cells": [
  {
   "cell_type": "code",
   "execution_count": 7,
   "metadata": {},
   "outputs": [
    {
     "name": "stdout",
     "output_type": "stream",
     "text": [
      "[{'nome': 'gag', 'idade': 1, 'cidade': 'faf', 'email': 'afa'}, {'nome': 'faf', 'idade': 2, 'cidade': 'faf', 'email': 'af'}]\n"
     ]
    }
   ],
   "source": [
    "lista_pessoas= []\n",
    "for i in range(2):\n",
    "    pessoas={}\n",
    "    pessoas[\"nome\"]=input(\"Digite o nome: \")\n",
    "    pessoas[\"idade\"]=int(input(\"Digite a idade: \"))\n",
    "    pessoas[\"cidade\"]=input(\"Digite a cidade: \")\n",
    "    pessoas[\"email\"]=input(\"Digite o email: \")\n",
    "    lista_pessoas.append(pessoas)\n",
    "print(lista_pessoas)\n"
   ]
  },
  {
   "cell_type": "code",
   "execution_count": 8,
   "metadata": {},
   "outputs": [],
   "source": [
    "lista_pessoas[0] [\"cel\"] = \"9920029333\""
   ]
  },
  {
   "cell_type": "code",
   "execution_count": 9,
   "metadata": {},
   "outputs": [
    {
     "name": "stdout",
     "output_type": "stream",
     "text": [
      "{'nome': 'gag', 'idade': 1, 'cidade': 'faf', 'email': 'afa', 'cel': '9920029333'}\n",
      "{'nome': 'faf', 'idade': 2, 'cidade': 'faf', 'email': 'af'}\n"
     ]
    }
   ],
   "source": [
    "print(lista_pessoas [0])\n",
    "print(lista_pessoas [1])"
   ]
  }
 ],
 "metadata": {
  "kernelspec": {
   "display_name": "Python 3.12.0 64-bit",
   "language": "python",
   "name": "python3"
  },
  "language_info": {
   "codemirror_mode": {
    "name": "ipython",
    "version": 3
   },
   "file_extension": ".py",
   "mimetype": "text/x-python",
   "name": "python",
   "nbconvert_exporter": "python",
   "pygments_lexer": "ipython3",
   "version": "3.12.0"
  },
  "orig_nbformat": 4,
  "vscode": {
   "interpreter": {
    "hash": "3fcbd7240ee8f908d933dc7f71e8c42a1a91163b70ede8dcff5146d4087436c7"
   }
  }
 },
 "nbformat": 4,
 "nbformat_minor": 2
}
