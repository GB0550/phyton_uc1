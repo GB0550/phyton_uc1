{
 "cells": [
  {
   "cell_type": "code",
   "execution_count": 99,
   "metadata": {},
   "outputs": [],
   "source": [
    "class Carro:\n",
    "    \n",
    "    def __init__(self, marca, modelo, ano, cor,):\n",
    "        self.marca = marca      \n",
    "        self.modelo = modelo    \n",
    "        self.ano = ano        \n",
    "        self.cor = \"\"\n",
    "        self._garantia = True\n",
    "        self._ligado = False \n",
    "        self.placa = True\n",
    "        self.seguro = True\n",
    "        self.reboque = True\n",
    "\n",
    "    def ligar(self):\n",
    "        if self._ligado : \n",
    "            print(f\"\\n\\t O carro está ligado.\\n\")\n",
    "        else  :\n",
    "            self._ligado=True\n",
    "            print(f\"\\t\\t[erro] O carro ja está ligado ! ! ! \\n\")\n",
    "\n",
    "    def desligar(self):\n",
    "        if self._ligado :\n",
    "            self._ligado=False\n",
    "            print(f\"\\t\\t [OK] O carro foi desligado ! ! !\")\n",
    "        else : \n",
    "            print(f\"\\n\\t [Erro] O carro ja está desligado\")\n",
    "\n",
    "    def exibir_info(self):\n",
    "        if self._ligado :\n",
    "            status = \"Ligado\"\n",
    "        else: status = \"Desligado\"\n",
    "        print(f\"{self.marca} - {self.modelo} está {status} - {self.seguro} - {self.placa} - {self.reboque}\")\n",
    "\n",
    "    def seguro_contratar(self):\n",
    "        if self.seguro : \n",
    "            print(f\"\\n\\n O seu seguro foi contratado!!\")\n",
    "\n",
    "    def seguro_cancelar(self):\n",
    "        if self.seguro: \n",
    "            print(f\"\\n\\n O seu seguro foi cancelado!!\")\n",
    "\n",
    "    def placa_emplacar(self):\n",
    "        if self.placa: \n",
    "            print(f\"\\t\\t Seu carro está emplacado, sua placa é [RKT4J29]\")\n",
    "\n",
    "    def placa_cancelar(self):\n",
    "        if self.placa: \n",
    "            print(f\"\\n\\t O seu carro não está emplacado\")\n",
    "\n",
    "    def reboque_contratar(self):\n",
    "        if self.reboque : \n",
    "            print(f\"\\n\\n O seu reboque foi contratado!!\")\n",
    "\n",
    "    def reboque_cancelar(self):\n",
    "        if self.reboque: \n",
    "            print(f\"\\n\\n O seu reboque foi cancelado!!\")"
   ]
  },
  {
   "cell_type": "code",
   "execution_count": 100,
   "metadata": {},
   "outputs": [],
   "source": [
    "meu_carro = Carro(\"Toyota\", \"SW4\", 2017, \"preto\")"
   ]
  },
  {
   "cell_type": "code",
   "execution_count": 101,
   "metadata": {},
   "outputs": [
    {
     "name": "stdout",
     "output_type": "stream",
     "text": [
      "<class '__main__.Carro'>\n"
     ]
    }
   ],
   "source": [
    "print(f\"{Carro}\")"
   ]
  },
  {
   "cell_type": "code",
   "execution_count": 104,
   "metadata": {},
   "outputs": [
    {
     "name": "stdout",
     "output_type": "stream",
     "text": [
      "WV - Gol está Desligado - True - True - True\n"
     ]
    }
   ],
   "source": [
    "meu_carro.exibir_info()"
   ]
  }
 ],
 "metadata": {
  "kernelspec": {
   "display_name": "Python 3.12.0 64-bit",
   "language": "python",
   "name": "python3"
  },
  "language_info": {
   "codemirror_mode": {
    "name": "ipython",
    "version": 3
   },
   "file_extension": ".py",
   "mimetype": "text/x-python",
   "name": "python",
   "nbconvert_exporter": "python",
   "pygments_lexer": "ipython3",
   "version": "3.12.0"
  },
  "orig_nbformat": 4,
  "vscode": {
   "interpreter": {
    "hash": "3fcbd7240ee8f908d933dc7f71e8c42a1a91163b70ede8dcff5146d4087436c7"
   }
  }
 },
 "nbformat": 4,
 "nbformat_minor": 2
}
